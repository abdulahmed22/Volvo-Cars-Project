{
 "cells": [
  {
   "cell_type": "markdown",
   "metadata": {},
   "source": [
    "## DATA"
   ]
  },
  {
   "cell_type": "code",
   "execution_count": 58,
   "metadata": {},
   "outputs": [
    {
     "data": {
      "text/html": [
       "<div>\n",
       "<style scoped>\n",
       "    .dataframe tbody tr th:only-of-type {\n",
       "        vertical-align: middle;\n",
       "    }\n",
       "\n",
       "    .dataframe tbody tr th {\n",
       "        vertical-align: top;\n",
       "    }\n",
       "\n",
       "    .dataframe thead th {\n",
       "        text-align: right;\n",
       "    }\n",
       "</style>\n",
       "<table border=\"1\" class=\"dataframe\">\n",
       "  <thead>\n",
       "    <tr style=\"text-align: right;\">\n",
       "      <th></th>\n",
       "      <th>Lev.YearMonth</th>\n",
       "      <th>Hämtställe</th>\n",
       "      <th>Hämtställe Gatuadress</th>\n",
       "      <th>Hämtställe Ort</th>\n",
       "      <th>Hämtställe Märkning</th>\n",
       "      <th>Artikel</th>\n",
       "      <th>RODkod</th>\n",
       "      <th>RodKodbeskr</th>\n",
       "      <th>EWCkod</th>\n",
       "      <th>Farligt avfall</th>\n",
       "      <th>Kvantitet kg</th>\n",
       "    </tr>\n",
       "  </thead>\n",
       "  <tbody>\n",
       "    <tr>\n",
       "      <th>0</th>\n",
       "      <td>202301</td>\n",
       "      <td>0178855      Volvo Personvagnar AB (Göteborg)</td>\n",
       "      <td>Gunnar Engellaus väg</td>\n",
       "      <td>Göteborg</td>\n",
       "      <td>VAK, kundnr: 0178855</td>\n",
       "      <td>3610 Träpallar</td>\n",
       "      <td>-1</td>\n",
       "      <td>-1 N/A</td>\n",
       "      <td>-1</td>\n",
       "      <td>NEJ</td>\n",
       "      <td>150.0</td>\n",
       "    </tr>\n",
       "    <tr>\n",
       "      <th>1</th>\n",
       "      <td>202303</td>\n",
       "      <td>0178855      Volvo Personvagnar AB (Göteborg)</td>\n",
       "      <td>Gunnar Engellaus väg</td>\n",
       "      <td>Göteborg</td>\n",
       "      <td>VAK, kundnr: 0178855</td>\n",
       "      <td>3610 Träpallar</td>\n",
       "      <td>-1</td>\n",
       "      <td>-1 N/A</td>\n",
       "      <td>-1</td>\n",
       "      <td>NEJ</td>\n",
       "      <td>199.0</td>\n",
       "    </tr>\n",
       "    <tr>\n",
       "      <th>2</th>\n",
       "      <td>202304</td>\n",
       "      <td>0178855      Volvo Personvagnar AB (Göteborg)</td>\n",
       "      <td>Gunnar Engellaus väg</td>\n",
       "      <td>Göteborg</td>\n",
       "      <td>VAK, kundnr: 0178855</td>\n",
       "      <td>3610 Träpallar</td>\n",
       "      <td>-1</td>\n",
       "      <td>-1 N/A</td>\n",
       "      <td>-1</td>\n",
       "      <td>NEJ</td>\n",
       "      <td>132.0</td>\n",
       "    </tr>\n",
       "    <tr>\n",
       "      <th>3</th>\n",
       "      <td>202305</td>\n",
       "      <td>0178855      Volvo Personvagnar AB (Göteborg)</td>\n",
       "      <td>Gunnar Engellaus väg</td>\n",
       "      <td>Göteborg</td>\n",
       "      <td>VAK, kundnr: 0178855</td>\n",
       "      <td>3610 Träpallar</td>\n",
       "      <td>-1</td>\n",
       "      <td>-1 N/A</td>\n",
       "      <td>-1</td>\n",
       "      <td>NEJ</td>\n",
       "      <td>417.0</td>\n",
       "    </tr>\n",
       "    <tr>\n",
       "      <th>4</th>\n",
       "      <td>202301</td>\n",
       "      <td>03879145    Volvo Personvagnar AB (Göteborg)</td>\n",
       "      <td>John Bunyans väg 4</td>\n",
       "      <td>Göteborg</td>\n",
       "      <td>PV Byggnad PVÖL</td>\n",
       "      <td>4215 Reklamation Papper</td>\n",
       "      <td>-1</td>\n",
       "      <td>-1 N/A</td>\n",
       "      <td>-1</td>\n",
       "      <td>NEJ</td>\n",
       "      <td>2500.0</td>\n",
       "    </tr>\n",
       "  </tbody>\n",
       "</table>\n",
       "</div>"
      ],
      "text/plain": [
       "   Lev.YearMonth                                     Hämtställe  \\\n",
       "0         202301  0178855      Volvo Personvagnar AB (Göteborg)   \n",
       "1         202303  0178855      Volvo Personvagnar AB (Göteborg)   \n",
       "2         202304  0178855      Volvo Personvagnar AB (Göteborg)   \n",
       "3         202305  0178855      Volvo Personvagnar AB (Göteborg)   \n",
       "4         202301   03879145    Volvo Personvagnar AB (Göteborg)   \n",
       "\n",
       "  Hämtställe Gatuadress Hämtställe Ort   Hämtställe Märkning  \\\n",
       "0  Gunnar Engellaus väg       Göteborg  VAK, kundnr: 0178855   \n",
       "1  Gunnar Engellaus väg       Göteborg  VAK, kundnr: 0178855   \n",
       "2  Gunnar Engellaus väg       Göteborg  VAK, kundnr: 0178855   \n",
       "3  Gunnar Engellaus väg       Göteborg  VAK, kundnr: 0178855   \n",
       "4    John Bunyans väg 4       Göteborg       PV Byggnad PVÖL   \n",
       "\n",
       "                   Artikel RODkod RodKodbeskr  EWCkod Farligt avfall  \\\n",
       "0           3610 Träpallar     -1      -1 N/A      -1            NEJ   \n",
       "1           3610 Träpallar     -1      -1 N/A      -1            NEJ   \n",
       "2           3610 Träpallar     -1      -1 N/A      -1            NEJ   \n",
       "3           3610 Träpallar     -1      -1 N/A      -1            NEJ   \n",
       "4  4215 Reklamation Papper     -1      -1 N/A      -1            NEJ   \n",
       "\n",
       "   Kvantitet kg  \n",
       "0         150.0  \n",
       "1         199.0  \n",
       "2         132.0  \n",
       "3         417.0  \n",
       "4        2500.0  "
      ]
     },
     "execution_count": 58,
     "metadata": {},
     "output_type": "execute_result"
    }
   ],
   "source": [
    "import pandas as pd\n",
    "import numpy as np \n",
    "\n",
    "\n",
    "df = pd.read_excel(\"Volvo Cars Waste data-Stena Recyling report_2023.xlsx\")\n",
    "df_des = pd.read_excel(\"Volvo Cars Waste data-Support data.xlsx\")\n",
    "df.head()"
   ]
  },
  {
   "cell_type": "code",
   "execution_count": 63,
   "metadata": {},
   "outputs": [
    {
     "data": {
      "text/plain": [
       "R3 Recycled, incl metal scrap     408\n",
       "R1 With energy recovery           301\n",
       "R4 Recycled, incl metal scrap     224\n",
       "R5 Recycled, incl metal scrap     189\n",
       "R11 Recycled, incl metal scrap     35\n",
       "R13 Recycled, incl metal scrap     32\n",
       "D1 Landfill                        31\n",
       "D10 Without energy recovery        29\n",
       "R9 Recycled, incl metal scrap      20\n",
       "-1 N/A                              6\n",
       "D9 Without energy recovery          6\n",
       "Name: RodKodbeskr, dtype: int64"
      ]
     },
     "execution_count": 63,
     "metadata": {},
     "output_type": "execute_result"
    }
   ],
   "source": [
    "df[\"RodKodbeskr\"].value_counts()\n"
   ]
  },
  {
   "cell_type": "code",
   "execution_count": 65,
   "metadata": {},
   "outputs": [
    {
     "name": "stdout",
     "output_type": "stream",
     "text": [
      "<class 'pandas.core.frame.DataFrame'>\n",
      "RangeIndex: 1281 entries, 0 to 1280\n",
      "Data columns (total 11 columns):\n",
      " #   Column                 Non-Null Count  Dtype  \n",
      "---  ------                 --------------  -----  \n",
      " 0   Lev.YearMonth          1281 non-null   int64  \n",
      " 1   Hämtställe             1281 non-null   object \n",
      " 2   Hämtställe Gatuadress  1218 non-null   object \n",
      " 3   Hämtställe Ort         1281 non-null   object \n",
      " 4   Hämtställe Märkning    1281 non-null   object \n",
      " 5   Artikel                1281 non-null   object \n",
      " 6   RODkod                 1281 non-null   object \n",
      " 7   RodKodbeskr            1281 non-null   object \n",
      " 8   EWCkod                 1281 non-null   int64  \n",
      " 9   Farligt avfall         1281 non-null   object \n",
      " 10  Kvantitet kg           1281 non-null   float64\n",
      "dtypes: float64(1), int64(2), object(8)\n",
      "memory usage: 110.2+ KB\n"
     ]
    }
   ],
   "source": []
  }
 ],
 "metadata": {
  "kernelspec": {
   "display_name": "Python 3",
   "language": "python",
   "name": "python3"
  },
  "language_info": {
   "codemirror_mode": {
    "name": "ipython",
    "version": 3
   },
   "file_extension": ".py",
   "mimetype": "text/x-python",
   "name": "python",
   "nbconvert_exporter": "python",
   "pygments_lexer": "ipython3",
   "version": "3.11.0"
  }
 },
 "nbformat": 4,
 "nbformat_minor": 2
}
